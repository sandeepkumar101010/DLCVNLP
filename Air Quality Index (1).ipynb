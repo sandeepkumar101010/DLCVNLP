{
 "cells": [
  {
   "cell_type": "code",
   "execution_count": 56,
   "id": "central-training",
   "metadata": {},
   "outputs": [],
   "source": [
    "import tensorflow as tf\n",
    "import numpy as np\n",
    "from sklearn.preprocessing import StandardScaler"
   ]
  },
  {
   "cell_type": "code",
   "execution_count": 2,
   "id": "wrapped-offer",
   "metadata": {},
   "outputs": [],
   "source": [
    "import pandas as pd"
   ]
  },
  {
   "cell_type": "code",
   "execution_count": 3,
   "id": "experimental-macro",
   "metadata": {},
   "outputs": [
    {
     "data": {
      "text/plain": [
       "'2.3.0'"
      ]
     },
     "execution_count": 3,
     "metadata": {},
     "output_type": "execute_result"
    }
   ],
   "source": [
    "tf.__version__"
   ]
  },
  {
   "cell_type": "code",
   "execution_count": 57,
   "id": "limiting-consolidation",
   "metadata": {},
   "outputs": [],
   "source": [
    "import os\n",
    "os.chdir('F:/Sandeep/SANDEEP DOCS/DLCVNLP/AirQualityUCI')"
   ]
  },
  {
   "cell_type": "code",
   "execution_count": 58,
   "id": "aquatic-harvey",
   "metadata": {},
   "outputs": [],
   "source": [
    "df = pd.read_csv('AirQualityUCI.csv')"
   ]
  },
  {
   "cell_type": "code",
   "execution_count": 59,
   "id": "nominated-passing",
   "metadata": {},
   "outputs": [],
   "source": [
    "df.drop(['Unnamed: 15', 'Unnamed: 16'],axis = 1,inplace = True)"
   ]
  },
  {
   "cell_type": "code",
   "execution_count": 60,
   "id": "mysterious-broadcasting",
   "metadata": {},
   "outputs": [],
   "source": [
    "df1 = df.dropna(axis=0, inplace=True)"
   ]
  },
  {
   "cell_type": "code",
   "execution_count": 61,
   "id": "hungarian-charleston",
   "metadata": {},
   "outputs": [
    {
     "data": {
      "text/plain": [
       "Date             0\n",
       "Time             0\n",
       "CO(GT)           0\n",
       "PT08.S1(CO)      0\n",
       "NMHC(GT)         0\n",
       "C6H6(GT)         0\n",
       "PT08.S2(NMHC)    0\n",
       "NOx(GT)          0\n",
       "PT08.S3(NOx)     0\n",
       "NO2(GT)          0\n",
       "PT08.S4(NO2)     0\n",
       "PT08.S5(O3)      0\n",
       "T                0\n",
       "RH               0\n",
       "AH               0\n",
       "dtype: int64"
      ]
     },
     "execution_count": 61,
     "metadata": {},
     "output_type": "execute_result"
    }
   ],
   "source": [
    "df.isnull().sum()"
   ]
  },
  {
   "cell_type": "code",
   "execution_count": 62,
   "id": "desperate-albuquerque",
   "metadata": {},
   "outputs": [
    {
     "data": {
      "text/plain": [
       "(9357, 15)"
      ]
     },
     "execution_count": 62,
     "metadata": {},
     "output_type": "execute_result"
    }
   ],
   "source": [
    "df.shape"
   ]
  },
  {
   "cell_type": "code",
   "execution_count": 18,
   "id": "ready-silly",
   "metadata": {},
   "outputs": [
    {
     "data": {
      "text/html": [
       "<div>\n",
       "<style scoped>\n",
       "    .dataframe tbody tr th:only-of-type {\n",
       "        vertical-align: middle;\n",
       "    }\n",
       "\n",
       "    .dataframe tbody tr th {\n",
       "        vertical-align: top;\n",
       "    }\n",
       "\n",
       "    .dataframe thead th {\n",
       "        text-align: right;\n",
       "    }\n",
       "</style>\n",
       "<table border=\"1\" class=\"dataframe\">\n",
       "  <thead>\n",
       "    <tr style=\"text-align: right;\">\n",
       "      <th></th>\n",
       "      <th>Date</th>\n",
       "      <th>Time</th>\n",
       "      <th>CO(GT)</th>\n",
       "      <th>PT08.S1(CO)</th>\n",
       "      <th>NMHC(GT)</th>\n",
       "      <th>C6H6(GT)</th>\n",
       "      <th>PT08.S2(NMHC)</th>\n",
       "      <th>NOx(GT)</th>\n",
       "      <th>PT08.S3(NOx)</th>\n",
       "      <th>NO2(GT)</th>\n",
       "      <th>PT08.S4(NO2)</th>\n",
       "      <th>PT08.S5(O3)</th>\n",
       "      <th>T</th>\n",
       "      <th>RH</th>\n",
       "      <th>AH</th>\n",
       "    </tr>\n",
       "  </thead>\n",
       "  <tbody>\n",
       "    <tr>\n",
       "      <th>9352</th>\n",
       "      <td>04-04-2005</td>\n",
       "      <td>10:00:00</td>\n",
       "      <td>3.1</td>\n",
       "      <td>1314.0</td>\n",
       "      <td>-200.0</td>\n",
       "      <td>13.5</td>\n",
       "      <td>1101.0</td>\n",
       "      <td>472.0</td>\n",
       "      <td>539.0</td>\n",
       "      <td>190.0</td>\n",
       "      <td>1374.0</td>\n",
       "      <td>1729.0</td>\n",
       "      <td>21.9</td>\n",
       "      <td>29.3</td>\n",
       "      <td>0.7568</td>\n",
       "    </tr>\n",
       "    <tr>\n",
       "      <th>9353</th>\n",
       "      <td>04-04-2005</td>\n",
       "      <td>11:00:00</td>\n",
       "      <td>2.4</td>\n",
       "      <td>1163.0</td>\n",
       "      <td>-200.0</td>\n",
       "      <td>11.4</td>\n",
       "      <td>1027.0</td>\n",
       "      <td>353.0</td>\n",
       "      <td>604.0</td>\n",
       "      <td>179.0</td>\n",
       "      <td>1264.0</td>\n",
       "      <td>1269.0</td>\n",
       "      <td>24.3</td>\n",
       "      <td>23.7</td>\n",
       "      <td>0.7119</td>\n",
       "    </tr>\n",
       "    <tr>\n",
       "      <th>9354</th>\n",
       "      <td>04-04-2005</td>\n",
       "      <td>12:00:00</td>\n",
       "      <td>2.4</td>\n",
       "      <td>1142.0</td>\n",
       "      <td>-200.0</td>\n",
       "      <td>12.4</td>\n",
       "      <td>1063.0</td>\n",
       "      <td>293.0</td>\n",
       "      <td>603.0</td>\n",
       "      <td>175.0</td>\n",
       "      <td>1241.0</td>\n",
       "      <td>1092.0</td>\n",
       "      <td>26.9</td>\n",
       "      <td>18.3</td>\n",
       "      <td>0.6406</td>\n",
       "    </tr>\n",
       "    <tr>\n",
       "      <th>9355</th>\n",
       "      <td>04-04-2005</td>\n",
       "      <td>13:00:00</td>\n",
       "      <td>2.1</td>\n",
       "      <td>1003.0</td>\n",
       "      <td>-200.0</td>\n",
       "      <td>9.5</td>\n",
       "      <td>961.0</td>\n",
       "      <td>235.0</td>\n",
       "      <td>702.0</td>\n",
       "      <td>156.0</td>\n",
       "      <td>1041.0</td>\n",
       "      <td>770.0</td>\n",
       "      <td>28.3</td>\n",
       "      <td>13.5</td>\n",
       "      <td>0.5139</td>\n",
       "    </tr>\n",
       "    <tr>\n",
       "      <th>9356</th>\n",
       "      <td>04-04-2005</td>\n",
       "      <td>14:00:00</td>\n",
       "      <td>2.2</td>\n",
       "      <td>1071.0</td>\n",
       "      <td>-200.0</td>\n",
       "      <td>11.9</td>\n",
       "      <td>1047.0</td>\n",
       "      <td>265.0</td>\n",
       "      <td>654.0</td>\n",
       "      <td>168.0</td>\n",
       "      <td>1129.0</td>\n",
       "      <td>816.0</td>\n",
       "      <td>28.5</td>\n",
       "      <td>13.1</td>\n",
       "      <td>0.5028</td>\n",
       "    </tr>\n",
       "  </tbody>\n",
       "</table>\n",
       "</div>"
      ],
      "text/plain": [
       "            Date      Time  CO(GT)  PT08.S1(CO)  NMHC(GT)  C6H6(GT)  \\\n",
       "9352  04-04-2005  10:00:00     3.1       1314.0    -200.0      13.5   \n",
       "9353  04-04-2005  11:00:00     2.4       1163.0    -200.0      11.4   \n",
       "9354  04-04-2005  12:00:00     2.4       1142.0    -200.0      12.4   \n",
       "9355  04-04-2005  13:00:00     2.1       1003.0    -200.0       9.5   \n",
       "9356  04-04-2005  14:00:00     2.2       1071.0    -200.0      11.9   \n",
       "\n",
       "      PT08.S2(NMHC)  NOx(GT)  PT08.S3(NOx)  NO2(GT)  PT08.S4(NO2)  \\\n",
       "9352         1101.0    472.0         539.0    190.0        1374.0   \n",
       "9353         1027.0    353.0         604.0    179.0        1264.0   \n",
       "9354         1063.0    293.0         603.0    175.0        1241.0   \n",
       "9355          961.0    235.0         702.0    156.0        1041.0   \n",
       "9356         1047.0    265.0         654.0    168.0        1129.0   \n",
       "\n",
       "      PT08.S5(O3)     T    RH      AH  \n",
       "9352       1729.0  21.9  29.3  0.7568  \n",
       "9353       1269.0  24.3  23.7  0.7119  \n",
       "9354       1092.0  26.9  18.3  0.6406  \n",
       "9355        770.0  28.3  13.5  0.5139  \n",
       "9356        816.0  28.5  13.1  0.5028  "
      ]
     },
     "execution_count": 18,
     "metadata": {},
     "output_type": "execute_result"
    }
   ],
   "source": [
    "df.tail()"
   ]
  },
  {
   "cell_type": "code",
   "execution_count": 63,
   "id": "foster-workstation",
   "metadata": {},
   "outputs": [],
   "source": [
    "X = df.drop(['AH','Date','Time'],axis =1)\n",
    "y = df['AH']"
   ]
  },
  {
   "cell_type": "code",
   "execution_count": 39,
   "id": "scenic-chase",
   "metadata": {},
   "outputs": [
    {
     "data": {
      "text/plain": [
       "0       0.7578\n",
       "1       0.7255\n",
       "2       0.7502\n",
       "3       0.7867\n",
       "4       0.7888\n",
       "         ...  \n",
       "9352    0.7568\n",
       "9353    0.7119\n",
       "9354    0.6406\n",
       "9355    0.5139\n",
       "9356    0.5028\n",
       "Name: AH, Length: 9357, dtype: float64"
      ]
     },
     "execution_count": 39,
     "metadata": {},
     "output_type": "execute_result"
    }
   ],
   "source": [
    "y"
   ]
  },
  {
   "cell_type": "code",
   "execution_count": 64,
   "id": "atomic-drain",
   "metadata": {},
   "outputs": [],
   "source": [
    "from sklearn.model_selection import train_test_split"
   ]
  },
  {
   "cell_type": "code",
   "execution_count": 65,
   "id": "insured-religious",
   "metadata": {},
   "outputs": [],
   "source": [
    "X_trainfull,X_test,y_traifull,y_test = train_test_split(X,y,random_state = 2, test_size=0.33)"
   ]
  },
  {
   "cell_type": "code",
   "execution_count": 66,
   "id": "utility-vertex",
   "metadata": {},
   "outputs": [],
   "source": [
    "X_train,X_valid,y_train,y_valid = train_test_split(X_trainfull,y_traifull,random_state = 2, test_size=0.33)"
   ]
  },
  {
   "cell_type": "code",
   "execution_count": 14,
   "id": "chicken-reporter",
   "metadata": {},
   "outputs": [
    {
     "data": {
      "text/plain": [
       "Date             False\n",
       "Time             False\n",
       "CO(GT)           False\n",
       "PT08.S1(CO)      False\n",
       "NMHC(GT)         False\n",
       "C6H6(GT)         False\n",
       "PT08.S2(NMHC)    False\n",
       "NOx(GT)          False\n",
       "PT08.S3(NOx)     False\n",
       "NO2(GT)          False\n",
       "PT08.S4(NO2)     False\n",
       "PT08.S5(O3)      False\n",
       "T                False\n",
       "RH               False\n",
       "AH               False\n",
       "dtype: bool"
      ]
     },
     "execution_count": 14,
     "metadata": {},
     "output_type": "execute_result"
    }
   ],
   "source": [
    "df.isnull().any()"
   ]
  },
  {
   "cell_type": "code",
   "execution_count": 67,
   "id": "chief-shark",
   "metadata": {},
   "outputs": [],
   "source": [
    "scaler = StandardScaler()\n",
    "X_train = scaler.fit_transform(X_train)\n",
    "X_valid = scaler.transform(X_valid)\n",
    "X_test = scaler.transform(X_test)"
   ]
  },
  {
   "cell_type": "markdown",
   "id": "overhead-emerald",
   "metadata": {},
   "source": [
    "### BASIC ANN MODEL "
   ]
  },
  {
   "cell_type": "code",
   "execution_count": 68,
   "id": "adjacent-ordering",
   "metadata": {},
   "outputs": [],
   "source": [
    "layers = [(tf.keras.layers.Dense(128,activation = \"relu\",name =\"hidden_lay1\",input_shape = X_train.shape[1:])),\n",
    "          (tf.keras.layers.Dense(320,activation = \"relu\",name = \"hidden_lay2\")),\n",
    "          (tf.keras.layers.Dense(288,activation = \"relu\",name = \"hidden_lay3\")),\n",
    "          (tf.keras.layers.Dense(384,activation = \"relu\",name = \"hidden_lay4\")),\n",
    "          (tf.keras.layers.Dense(256,activation = \"relu\",name = \"hidden_lay5\")),\n",
    "          (tf.keras.layers.Dense(192,activation = \"relu\",name = \"hidden_lay6\")),\n",
    "          (tf.keras.layers.Dense(384,activation = \"relu\",name = \"hidden_lay7\")),\n",
    "          (tf.keras.layers.Dense(96,activation = \"relu\",name = \"hidden_lay8\")),\n",
    "          (tf.keras.layers.Dense(480,activation = \"relu\",name = \"hidden_lay9\")),\n",
    "          (tf.keras.layers.Dense(128,activation = \"relu\",name = \"hidden_lay10\")),\n",
    "          (tf.keras.layers.Dense(160,activation = \"relu\",name = \"hidden_lay11\")),\n",
    "          (tf.keras.layers.Dense(384,activation = \"relu\",name = \"hidden_lay12\")),\n",
    "          (tf.keras.layers.Dense(128,activation = \"relu\",name = \"hidden_lay13\")),\n",
    "          (tf.keras.layers.Dense(1))\n",
    "          \n",
    "          \n",
    "        ]\n"
   ]
  },
  {
   "cell_type": "code",
   "execution_count": 69,
   "id": "indoor-overhead",
   "metadata": {},
   "outputs": [],
   "source": [
    "model = tf.keras.models.Sequential(layers)"
   ]
  },
  {
   "cell_type": "code",
   "execution_count": 70,
   "id": "viral-housing",
   "metadata": {},
   "outputs": [
    {
     "name": "stdout",
     "output_type": "stream",
     "text": [
      "Epoch 1/15\n",
      "132/132 [==============================] - 1s 9ms/step - loss: 207.9544 - MSE: 207.9544 - val_loss: 0.3101 - val_MSE: 0.3101\n",
      "Epoch 2/15\n",
      "132/132 [==============================] - 1s 5ms/step - loss: 1.4336 - MSE: 1.4336 - val_loss: 0.7095 - val_MSE: 0.7095\n",
      "Epoch 3/15\n",
      "132/132 [==============================] - 1s 9ms/step - loss: 0.6184 - MSE: 0.6184 - val_loss: 0.2229 - val_MSE: 0.2229\n",
      "Epoch 4/15\n",
      "132/132 [==============================] - 1s 5ms/step - loss: 119.1154 - MSE: 119.1154 - val_loss: 25.3014 - val_MSE: 25.3014\n",
      "Epoch 5/15\n",
      "132/132 [==============================] - 1s 5ms/step - loss: 14.2986 - MSE: 14.2986 - val_loss: 16.3964 - val_MSE: 16.3964\n",
      "Epoch 6/15\n",
      "132/132 [==============================] - 1s 5ms/step - loss: 525.0325 - MSE: 525.0325 - val_loss: 5.2487 - val_MSE: 5.2487\n",
      "Epoch 7/15\n",
      "132/132 [==============================] - 1s 5ms/step - loss: 35.4890 - MSE: 35.4890 - val_loss: 1.6312 - val_MSE: 1.6312\n",
      "Epoch 8/15\n",
      "132/132 [==============================] - 1s 5ms/step - loss: 0.9799 - MSE: 0.9799 - val_loss: 0.3054 - val_MSE: 0.3054\n",
      "Epoch 9/15\n",
      "132/132 [==============================] - 1s 10ms/step - loss: 0.4301 - MSE: 0.4301 - val_loss: 0.1673 - val_MSE: 0.1673\n",
      "Epoch 10/15\n",
      "132/132 [==============================] - 1s 8ms/step - loss: 0.7557 - MSE: 0.7557 - val_loss: 0.1052 - val_MSE: 0.1052\n",
      "Epoch 11/15\n",
      "132/132 [==============================] - 1s 5ms/step - loss: 0.1683 - MSE: 0.1683 - val_loss: 0.1159 - val_MSE: 0.1159\n",
      "Epoch 12/15\n",
      "132/132 [==============================] - 1s 10ms/step - loss: 0.2232 - MSE: 0.2232 - val_loss: 0.0970 - val_MSE: 0.0970\n",
      "Epoch 13/15\n",
      "132/132 [==============================] - 1s 8ms/step - loss: 0.1563 - MSE: 0.1563 - val_loss: 0.0719 - val_MSE: 0.0719\n",
      "Epoch 14/15\n",
      "132/132 [==============================] - 1s 6ms/step - loss: 0.1088 - MSE: 0.1088 - val_loss: 0.1263 - val_MSE: 0.1263\n",
      "Epoch 15/15\n",
      "132/132 [==============================] - 1s 5ms/step - loss: 5.7562 - MSE: 5.7562 - val_loss: 1.5019 - val_MSE: 1.5019\n"
     ]
    }
   ],
   "source": [
    "model.compile(loss=\"mse\",optimizer=keras.optimizers.Adam(learning_rate=0.001), metrics = ['MSE'])\n",
    "checkpoint_cb = tf.keras.callbacks.ModelCheckpoint(\"my_keras_model.h5\", save_best_only=True)\n",
    "history = model.fit(X_train, y_train, epochs=15, validation_data=(X_valid, y_valid),callbacks=[checkpoint_cb])"
   ]
  },
  {
   "cell_type": "code",
   "execution_count": 71,
   "id": "separate-wesley",
   "metadata": {
    "scrolled": true
   },
   "outputs": [
    {
     "data": {
      "image/png": "[encoded data removed]",
      "text/plain": [
       "<Figure size 576x360 with 1 Axes>"
      ]
     },
     "metadata": {
      "needs_background": "light"
     },
     "output_type": "display_data"
    }
   ],
   "source": [
    "import matplotlib.pyplot as plt\n",
    "pd.DataFrame(history.history).plot(figsize=(8, 5))\n",
    "plt.grid(True)"
   ]
  },
  {
   "cell_type": "code",
   "execution_count": 72,
   "id": "fifty-cleveland",
   "metadata": {},
   "outputs": [
    {
     "name": "stdout",
     "output_type": "stream",
     "text": [
      "97/97 [==============================] - 0s 1ms/step - loss: 1.2335 - MSE: 1.2335\n"
     ]
    }
   ],
   "source": [
    "mse_test = model.evaluate(X_test, y_test)"
   ]
  },
  {
   "cell_type": "code",
   "execution_count": 73,
   "id": "swiss-acrylic",
   "metadata": {},
   "outputs": [
    {
     "data": {
      "text/plain": [
       "array([[1.7785765],\n",
       "       [1.7708486],\n",
       "       [1.626618 ]], dtype=float32)"
      ]
     },
     "execution_count": 73,
     "metadata": {},
     "output_type": "execute_result"
    }
   ],
   "source": [
    "X_new = X_test[:3]\n",
    "y_pred = model.predict(X_new)\n",
    "y_pred"
   ]
  },
  {
   "cell_type": "code",
   "execution_count": 57,
   "id": "sacred-vegetarian",
   "metadata": {},
   "outputs": [
    {
     "data": {
      "text/plain": [
       "array([[ 0.49465099,  1.2265512 , -0.29693671,  0.43010162,  1.15672005,\n",
       "         1.14353762, -0.94135191,  0.41178055,  1.06160127,  1.17163828,\n",
       "         0.2803192 ,  0.56151062],\n",
       "       [ 0.4600455 , -0.22552127, -0.29693671,  0.10993719, -0.16924748,\n",
       "        -0.4693713 ,  0.19172768,  0.08082214,  0.41233695, -0.88755723,\n",
       "         0.63140896, -0.20782688],\n",
       "       [ 0.48696088,  0.61079895, -0.29693671,  0.36606874,  0.92983227,\n",
       "         0.56833155, -0.62113376,  0.71909907,  0.86249355,  0.57734437,\n",
       "         0.38164041,  0.17287622]])"
      ]
     },
     "execution_count": 57,
     "metadata": {},
     "output_type": "execute_result"
    }
   ],
   "source": [
    "X_test[:3]"
   ]
  },
  {
   "cell_type": "code",
   "execution_count": 63,
   "id": "described-finland",
   "metadata": {},
   "outputs": [
    {
     "data": {
      "text/plain": [
       "5381    1.7699\n",
       "3599    1.8037\n",
       "4730    1.6256\n",
       "Name: AH, dtype: float64"
      ]
     },
     "execution_count": 63,
     "metadata": {},
     "output_type": "execute_result"
    }
   ],
   "source": [
    "y_test[:3]"
   ]
  },
  {
   "cell_type": "markdown",
   "id": "durable-timber",
   "metadata": {},
   "source": [
    "### ANN MODEL WITH KERAS TUNER SO THAT IT CAN AUTOMATICALLY GET THE OPTIMUM NUMBER OF HIDDEN LAYERS AND RESPECTIVE NEURONS IN THEM"
   ]
  },
  {
   "cell_type": "code",
   "execution_count": 33,
   "id": "liquid-tomorrow",
   "metadata": {},
   "outputs": [],
   "source": [
    "from tensorflow import keras\n",
    "from tensorflow.keras import layers\n",
    "from kerastuner.tuners import RandomSearch"
   ]
  },
  {
   "cell_type": "code",
   "execution_count": 40,
   "id": "statewide-springer",
   "metadata": {},
   "outputs": [],
   "source": [
    "#hp.Int is use to select part\n",
    "def build_model(hp):\n",
    "    model = keras.Sequential()\n",
    "    for i in range(hp.Int('num_layers',2,20)):\n",
    "        model.add(layers.Dense(units=hp.Int('units_' + str(i),\n",
    "                                            min_value=32,\n",
    "                                            max_value=512,\n",
    "                                            step=32),activation = \"relu\"))\n",
    "        model.add(layers.Dense(units = 1))\n",
    "        model.compile(optimizer = keras.optimizers.Adam(hp.Choice('learning_rate',[1e-2, 1e-3, 1e-4])), loss = 'mse',metrics=['MSE'])\n",
    "    return model"
   ]
  },
  {
   "cell_type": "code",
   "execution_count": 41,
   "id": "elect-feedback",
   "metadata": {},
   "outputs": [],
   "source": [
    "tuner = RandomSearch(\n",
    "    build_model,\n",
    "    objective='val_MSE',\n",
    "    max_trials=3,\n",
    "    executions_per_trial=1,\n",
    "    directory='my_dir',\n",
    "    project_name='AQI')"
   ]
  },
  {
   "cell_type": "code",
   "execution_count": 36,
   "id": "worth-february",
   "metadata": {},
   "outputs": [
    {
     "name": "stdout",
     "output_type": "stream",
     "text": [
      "Search space summary\n",
      "Default search space size: 4\n",
      "num_layers (Int)\n",
      "{'default': None, 'conditions': [], 'min_value': 2, 'max_value': 20, 'step': 1, 'sampling': None}\n",
      "units_0 (Int)\n",
      "{'default': None, 'conditions': [], 'min_value': 32, 'max_value': 512, 'step': 32, 'sampling': None}\n",
      "learning_rate (Choice)\n",
      "{'default': 0.01, 'conditions': [], 'values': [0.01, 0.001, 0.0001], 'ordered': True}\n",
      "units_1 (Int)\n",
      "{'default': None, 'conditions': [], 'min_value': 32, 'max_value': 512, 'step': 32, 'sampling': None}\n"
     ]
    }
   ],
   "source": [
    "tuner.search_space_summary()"
   ]
  },
  {
   "cell_type": "markdown",
   "id": "orange-disease",
   "metadata": {},
   "source": [
    "#### Then, start the search for the best hyperparameter configuration. The call to search has the same signature as model.fit()"
   ]
  },
  {
   "cell_type": "code",
   "execution_count": 42,
   "id": "finite-shell",
   "metadata": {},
   "outputs": [
    {
     "name": "stdout",
     "output_type": "stream",
     "text": [
      "Trial 3 Complete [00h 00m 01s]\n",
      "val_MSE: 0.11202651262283325\n",
      "\n",
      "Best val_MSE So Far: 0.11202651262283325\n",
      "Total elapsed time: 00h 00m 06s\n",
      "INFO:tensorflow:Oracle triggered exit\n"
     ]
    }
   ],
   "source": [
    "model1 = tuner.search(X_train, y_train,\n",
    "             epochs=3,\n",
    "             validation_data=(X_valid, y_valid))\n",
    "model1"
   ]
  },
  {
   "cell_type": "code",
   "execution_count": 49,
   "id": "figured-honolulu",
   "metadata": {},
   "outputs": [],
   "source": [
    "models = tuner.get_best_models(num_models=2)"
   ]
  },
  {
   "cell_type": "code",
   "execution_count": 52,
   "id": "funny-sugar",
   "metadata": {},
   "outputs": [
    {
     "name": "stdout",
     "output_type": "stream",
     "text": [
      "Results summary\n",
      "Results in my_dir\\AQI\n",
      "Showing 10 best trials\n",
      "Objective(name='val_MSE', direction='min')\n",
      "Trial summary\n",
      "Hyperparameters:\n",
      "num_layers: 4\n",
      "units_0: 128\n",
      "learning_rate: 0.001\n",
      "units_1: 320\n",
      "units_2: 288\n",
      "units_3: 384\n",
      "units_4: 256\n",
      "units_5: 192\n",
      "units_6: 384\n",
      "units_7: 96\n",
      "units_8: 480\n",
      "units_9: 128\n",
      "units_10: 160\n",
      "units_11: 384\n",
      "units_12: 128\n",
      "Score: 0.11202651262283325\n",
      "Trial summary\n",
      "Hyperparameters:\n",
      "num_layers: 5\n",
      "units_0: 192\n",
      "learning_rate: 0.01\n",
      "units_1: 128\n",
      "units_2: 96\n",
      "units_3: 32\n",
      "units_4: 512\n",
      "units_5: 480\n",
      "units_6: 352\n",
      "units_7: 64\n",
      "units_8: 160\n",
      "units_9: 96\n",
      "units_10: 224\n",
      "units_11: 416\n",
      "units_12: 352\n",
      "Score: 0.3456842303276062\n",
      "Trial summary\n",
      "Hyperparameters:\n",
      "num_layers: 13\n",
      "units_0: 128\n",
      "learning_rate: 0.0001\n",
      "units_1: 352\n",
      "units_2: 32\n",
      "units_3: 32\n",
      "units_4: 32\n",
      "units_5: 32\n",
      "units_6: 32\n",
      "units_7: 32\n",
      "units_8: 32\n",
      "units_9: 32\n",
      "units_10: 32\n",
      "units_11: 32\n",
      "units_12: 32\n",
      "Score: 1546.1419677734375\n"
     ]
    }
   ],
   "source": [
    "tuner.results_summary()"
   ]
  },
  {
   "cell_type": "markdown",
   "id": "varied-hardwood",
   "metadata": {},
   "source": [
    "#### SELECTING BEST MODEL AND ITS RESPECTIVE LAYERS AND NEURON AND THEN MAKE YOUR NN , IN THIS WAY WE WILL GET MAX EFFICIENCY , THIS IS WHAT I HAVE DONE\n"
   ]
  },
  {
   "cell_type": "markdown",
   "id": "authorized-annual",
   "metadata": {},
   "source": [
    "#### SElecting this result from best models and taken this number of neurons learning rate and layers then i got less MSE\n",
    "num_layers: 4\n",
    "units_0: 128\n",
    "learning_rate: 0.001\n",
    "units_1: 320\n",
    "units_2: 288\n",
    "units_3: 384\n",
    "units_4: 256\n",
    "units_5: 192\n",
    "units_6: 384\n",
    "units_7: 96\n",
    "units_8: 480\n",
    "units_9: 128\n",
    "units_10: 160\n",
    "units_11: 384\n",
    "units_12: 128\n",
    "Score: 0.11202651262283325"
   ]
  },
  {
   "cell_type": "code",
   "execution_count": null,
   "id": "attended-cocktail",
   "metadata": {},
   "outputs": [],
   "source": []
  },
  {
   "cell_type": "code",
   "execution_count": null,
   "id": "alike-combat",
   "metadata": {},
   "outputs": [],
   "source": []
  },
  {
   "cell_type": "code",
   "execution_count": null,
   "id": "completed-desktop",
   "metadata": {},
   "outputs": [],
   "source": []
  },
  {
   "cell_type": "code",
   "execution_count": null,
   "id": "floppy-kidney",
   "metadata": {},
   "outputs": [],
   "source": []
  },
  {
   "cell_type": "code",
   "execution_count": null,
   "id": "mechanical-eagle",
   "metadata": {},
   "outputs": [],
   "source": []
  },
  {
   "cell_type": "code",
   "execution_count": null,
   "id": "upper-handle",
   "metadata": {},
   "outputs": [],
   "source": []
  }
 ],
 "metadata": {
  "kernelspec": {
   "display_name": "Python 3",
   "language": "python",
   "name": "python3"
  },
  "language_info": {
   "codemirror_mode": {
    "name": "ipython",
    "version": 3
   },
   "file_extension": ".py",
   "mimetype": "text/x-python",
   "name": "python",
   "nbconvert_exporter": "python",
   "pygments_lexer": "ipython3",
   "version": "3.6.9"
  }
 },
 "nbformat": 4,
 "nbformat_minor": 5
}
