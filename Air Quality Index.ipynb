{
 "cells": [
  {
   "cell_type": "code",
   "execution_count": 21,
   "id": "central-training",
   "metadata": {},
   "outputs": [],
   "source": [
    "import tensorflow as tf\n",
    "import numpy as np\n",
    "from sklearn.preprocessing import StandardScaler"
   ]
  },
  {
   "cell_type": "code",
   "execution_count": 2,
   "id": "wrapped-offer",
   "metadata": {},
   "outputs": [],
   "source": [
    "import pandas as pd"
   ]
  },
  {
   "cell_type": "code",
   "execution_count": 3,
   "id": "experimental-macro",
   "metadata": {},
   "outputs": [
    {
     "data": {
      "text/plain": [
       "'2.3.0'"
      ]
     },
     "execution_count": 3,
     "metadata": {},
     "output_type": "execute_result"
    }
   ],
   "source": [
    "tf.__version__"
   ]
  },
  {
   "cell_type": "code",
   "execution_count": 3,
   "id": "limiting-consolidation",
   "metadata": {},
   "outputs": [],
   "source": [
    "import os\n",
    "os.chdir('F:/Sandeep/SANDEEP DOCS/DLCVNLP/AirQualityUCI')"
   ]
  },
  {
   "cell_type": "code",
   "execution_count": 4,
   "id": "aquatic-harvey",
   "metadata": {},
   "outputs": [],
   "source": [
    "df = pd.read_csv('AirQualityUCI.csv')"
   ]
  },
  {
   "cell_type": "code",
   "execution_count": 5,
   "id": "nominated-passing",
   "metadata": {},
   "outputs": [],
   "source": [
    "df.drop(['Unnamed: 15', 'Unnamed: 16'],axis = 1,inplace = True)"
   ]
  },
  {
   "cell_type": "code",
   "execution_count": 6,
   "id": "mysterious-broadcasting",
   "metadata": {},
   "outputs": [],
   "source": [
    "df1 = df.dropna(axis=0, inplace=True)"
   ]
  },
  {
   "cell_type": "code",
   "execution_count": 7,
   "id": "hungarian-charleston",
   "metadata": {},
   "outputs": [
    {
     "data": {
      "text/plain": [
       "Date             0\n",
       "Time             0\n",
       "CO(GT)           0\n",
       "PT08.S1(CO)      0\n",
       "NMHC(GT)         0\n",
       "C6H6(GT)         0\n",
       "PT08.S2(NMHC)    0\n",
       "NOx(GT)          0\n",
       "PT08.S3(NOx)     0\n",
       "NO2(GT)          0\n",
       "PT08.S4(NO2)     0\n",
       "PT08.S5(O3)      0\n",
       "T                0\n",
       "RH               0\n",
       "AH               0\n",
       "dtype: int64"
      ]
     },
     "execution_count": 7,
     "metadata": {},
     "output_type": "execute_result"
    }
   ],
   "source": [
    "df.isnull().sum()"
   ]
  },
  {
   "cell_type": "code",
   "execution_count": 8,
   "id": "desperate-albuquerque",
   "metadata": {},
   "outputs": [
    {
     "data": {
      "text/plain": [
       "(9357, 15)"
      ]
     },
     "execution_count": 8,
     "metadata": {},
     "output_type": "execute_result"
    }
   ],
   "source": [
    "df.shape"
   ]
  },
  {
   "cell_type": "code",
   "execution_count": 18,
   "id": "ready-silly",
   "metadata": {},
   "outputs": [
    {
     "data": {
      "text/html": [
       "<div>\n",
       "<style scoped>\n",
       "    .dataframe tbody tr th:only-of-type {\n",
       "        vertical-align: middle;\n",
       "    }\n",
       "\n",
       "    .dataframe tbody tr th {\n",
       "        vertical-align: top;\n",
       "    }\n",
       "\n",
       "    .dataframe thead th {\n",
       "        text-align: right;\n",
       "    }\n",
       "</style>\n",
       "<table border=\"1\" class=\"dataframe\">\n",
       "  <thead>\n",
       "    <tr style=\"text-align: right;\">\n",
       "      <th></th>\n",
       "      <th>Date</th>\n",
       "      <th>Time</th>\n",
       "      <th>CO(GT)</th>\n",
       "      <th>PT08.S1(CO)</th>\n",
       "      <th>NMHC(GT)</th>\n",
       "      <th>C6H6(GT)</th>\n",
       "      <th>PT08.S2(NMHC)</th>\n",
       "      <th>NOx(GT)</th>\n",
       "      <th>PT08.S3(NOx)</th>\n",
       "      <th>NO2(GT)</th>\n",
       "      <th>PT08.S4(NO2)</th>\n",
       "      <th>PT08.S5(O3)</th>\n",
       "      <th>T</th>\n",
       "      <th>RH</th>\n",
       "      <th>AH</th>\n",
       "    </tr>\n",
       "  </thead>\n",
       "  <tbody>\n",
       "    <tr>\n",
       "      <th>9352</th>\n",
       "      <td>04-04-2005</td>\n",
       "      <td>10:00:00</td>\n",
       "      <td>3.1</td>\n",
       "      <td>1314.0</td>\n",
       "      <td>-200.0</td>\n",
       "      <td>13.5</td>\n",
       "      <td>1101.0</td>\n",
       "      <td>472.0</td>\n",
       "      <td>539.0</td>\n",
       "      <td>190.0</td>\n",
       "      <td>1374.0</td>\n",
       "      <td>1729.0</td>\n",
       "      <td>21.9</td>\n",
       "      <td>29.3</td>\n",
       "      <td>0.7568</td>\n",
       "    </tr>\n",
       "    <tr>\n",
       "      <th>9353</th>\n",
       "      <td>04-04-2005</td>\n",
       "      <td>11:00:00</td>\n",
       "      <td>2.4</td>\n",
       "      <td>1163.0</td>\n",
       "      <td>-200.0</td>\n",
       "      <td>11.4</td>\n",
       "      <td>1027.0</td>\n",
       "      <td>353.0</td>\n",
       "      <td>604.0</td>\n",
       "      <td>179.0</td>\n",
       "      <td>1264.0</td>\n",
       "      <td>1269.0</td>\n",
       "      <td>24.3</td>\n",
       "      <td>23.7</td>\n",
       "      <td>0.7119</td>\n",
       "    </tr>\n",
       "    <tr>\n",
       "      <th>9354</th>\n",
       "      <td>04-04-2005</td>\n",
       "      <td>12:00:00</td>\n",
       "      <td>2.4</td>\n",
       "      <td>1142.0</td>\n",
       "      <td>-200.0</td>\n",
       "      <td>12.4</td>\n",
       "      <td>1063.0</td>\n",
       "      <td>293.0</td>\n",
       "      <td>603.0</td>\n",
       "      <td>175.0</td>\n",
       "      <td>1241.0</td>\n",
       "      <td>1092.0</td>\n",
       "      <td>26.9</td>\n",
       "      <td>18.3</td>\n",
       "      <td>0.6406</td>\n",
       "    </tr>\n",
       "    <tr>\n",
       "      <th>9355</th>\n",
       "      <td>04-04-2005</td>\n",
       "      <td>13:00:00</td>\n",
       "      <td>2.1</td>\n",
       "      <td>1003.0</td>\n",
       "      <td>-200.0</td>\n",
       "      <td>9.5</td>\n",
       "      <td>961.0</td>\n",
       "      <td>235.0</td>\n",
       "      <td>702.0</td>\n",
       "      <td>156.0</td>\n",
       "      <td>1041.0</td>\n",
       "      <td>770.0</td>\n",
       "      <td>28.3</td>\n",
       "      <td>13.5</td>\n",
       "      <td>0.5139</td>\n",
       "    </tr>\n",
       "    <tr>\n",
       "      <th>9356</th>\n",
       "      <td>04-04-2005</td>\n",
       "      <td>14:00:00</td>\n",
       "      <td>2.2</td>\n",
       "      <td>1071.0</td>\n",
       "      <td>-200.0</td>\n",
       "      <td>11.9</td>\n",
       "      <td>1047.0</td>\n",
       "      <td>265.0</td>\n",
       "      <td>654.0</td>\n",
       "      <td>168.0</td>\n",
       "      <td>1129.0</td>\n",
       "      <td>816.0</td>\n",
       "      <td>28.5</td>\n",
       "      <td>13.1</td>\n",
       "      <td>0.5028</td>\n",
       "    </tr>\n",
       "  </tbody>\n",
       "</table>\n",
       "</div>"
      ],
      "text/plain": [
       "            Date      Time  CO(GT)  PT08.S1(CO)  NMHC(GT)  C6H6(GT)  \\\n",
       "9352  04-04-2005  10:00:00     3.1       1314.0    -200.0      13.5   \n",
       "9353  04-04-2005  11:00:00     2.4       1163.0    -200.0      11.4   \n",
       "9354  04-04-2005  12:00:00     2.4       1142.0    -200.0      12.4   \n",
       "9355  04-04-2005  13:00:00     2.1       1003.0    -200.0       9.5   \n",
       "9356  04-04-2005  14:00:00     2.2       1071.0    -200.0      11.9   \n",
       "\n",
       "      PT08.S2(NMHC)  NOx(GT)  PT08.S3(NOx)  NO2(GT)  PT08.S4(NO2)  \\\n",
       "9352         1101.0    472.0         539.0    190.0        1374.0   \n",
       "9353         1027.0    353.0         604.0    179.0        1264.0   \n",
       "9354         1063.0    293.0         603.0    175.0        1241.0   \n",
       "9355          961.0    235.0         702.0    156.0        1041.0   \n",
       "9356         1047.0    265.0         654.0    168.0        1129.0   \n",
       "\n",
       "      PT08.S5(O3)     T    RH      AH  \n",
       "9352       1729.0  21.9  29.3  0.7568  \n",
       "9353       1269.0  24.3  23.7  0.7119  \n",
       "9354       1092.0  26.9  18.3  0.6406  \n",
       "9355        770.0  28.3  13.5  0.5139  \n",
       "9356        816.0  28.5  13.1  0.5028  "
      ]
     },
     "execution_count": 18,
     "metadata": {},
     "output_type": "execute_result"
    }
   ],
   "source": [
    "df.tail()"
   ]
  },
  {
   "cell_type": "code",
   "execution_count": 9,
   "id": "foster-workstation",
   "metadata": {},
   "outputs": [],
   "source": [
    "X = df.drop(['AH','Date','Time'],axis =1)\n",
    "y = df['AH']"
   ]
  },
  {
   "cell_type": "code",
   "execution_count": 39,
   "id": "scenic-chase",
   "metadata": {},
   "outputs": [
    {
     "data": {
      "text/plain": [
       "0       0.7578\n",
       "1       0.7255\n",
       "2       0.7502\n",
       "3       0.7867\n",
       "4       0.7888\n",
       "         ...  \n",
       "9352    0.7568\n",
       "9353    0.7119\n",
       "9354    0.6406\n",
       "9355    0.5139\n",
       "9356    0.5028\n",
       "Name: AH, Length: 9357, dtype: float64"
      ]
     },
     "execution_count": 39,
     "metadata": {},
     "output_type": "execute_result"
    }
   ],
   "source": [
    "y"
   ]
  },
  {
   "cell_type": "code",
   "execution_count": 10,
   "id": "atomic-drain",
   "metadata": {},
   "outputs": [],
   "source": [
    "from sklearn.model_selection import train_test_split"
   ]
  },
  {
   "cell_type": "code",
   "execution_count": 11,
   "id": "insured-religious",
   "metadata": {},
   "outputs": [],
   "source": [
    "X_trainfull,X_test,y_traifull,y_test = train_test_split(X,y,random_state = 2, test_size=0.33)"
   ]
  },
  {
   "cell_type": "code",
   "execution_count": 12,
   "id": "utility-vertex",
   "metadata": {},
   "outputs": [],
   "source": [
    "X_train,X_valid,y_train,y_valid = train_test_split(X_trainfull,y_traifull,random_state = 2, test_size=0.33)"
   ]
  },
  {
   "cell_type": "code",
   "execution_count": 31,
   "id": "chicken-reporter",
   "metadata": {},
   "outputs": [
    {
     "data": {
      "text/plain": [
       "Date             False\n",
       "Time             False\n",
       "CO(GT)           False\n",
       "PT08.S1(CO)      False\n",
       "NMHC(GT)         False\n",
       "C6H6(GT)         False\n",
       "PT08.S2(NMHC)    False\n",
       "NOx(GT)          False\n",
       "PT08.S3(NOx)     False\n",
       "NO2(GT)          False\n",
       "PT08.S4(NO2)     False\n",
       "PT08.S5(O3)      False\n",
       "T                False\n",
       "RH               False\n",
       "AH               False\n",
       "dtype: bool"
      ]
     },
     "execution_count": 31,
     "metadata": {},
     "output_type": "execute_result"
    }
   ],
   "source": [
    "df.isnull().any()"
   ]
  },
  {
   "cell_type": "code",
   "execution_count": 22,
   "id": "chief-shark",
   "metadata": {},
   "outputs": [],
   "source": [
    "scaler = StandardScaler()\n",
    "X_train = scaler.fit_transform(X_train)\n",
    "X_valid = scaler.transform(X_valid)\n",
    "X_test = scaler.transform(X_test)"
   ]
  },
  {
   "cell_type": "code",
   "execution_count": 67,
   "id": "adjacent-ordering",
   "metadata": {},
   "outputs": [],
   "source": [
    "layers = [(tf.keras.layers.Dense(30,activation = \"relu\",name =\"input_layer\",input_shape = X_train.shape[1:])),\n",
    "          (tf.keras.layers.Dense(15,activation = \"relu\",name = \"hidden_lay1\")),\n",
    "          (tf.keras.layers.Dense(18,activation = \"relu\",name = \"hidden_lay2\")),\n",
    "          (tf.keras.layers.Dense(10,activation = \"relu\",name = \"hidden_lay3\")),\n",
    "          (tf.keras.layers.Dense(1))\n",
    "          \n",
    "          \n",
    "        ]"
   ]
  },
  {
   "cell_type": "code",
   "execution_count": 45,
   "id": "indoor-overhead",
   "metadata": {},
   "outputs": [],
   "source": [
    "model = tf.keras.models.Sequential(layers)"
   ]
  },
  {
   "cell_type": "code",
   "execution_count": 64,
   "id": "viral-housing",
   "metadata": {},
   "outputs": [
    {
     "name": "stdout",
     "output_type": "stream",
     "text": [
      "Epoch 1/15\n",
      "132/132 [==============================] - 3s 20ms/step - loss: 0.0512 - val_loss: 0.0028\n",
      "Epoch 2/15\n",
      "132/132 [==============================] - 0s 1ms/step - loss: 0.0027 - val_loss: 0.0049\n",
      "Epoch 3/15\n",
      "132/132 [==============================] - 0s 1ms/step - loss: 0.0025 - val_loss: 0.0029\n",
      "Epoch 4/15\n",
      "132/132 [==============================] - 0s 1ms/step - loss: 0.1555 - val_loss: 0.0064\n",
      "Epoch 5/15\n",
      "132/132 [==============================] - 0s 1ms/step - loss: 0.0073 - val_loss: 0.0061\n",
      "Epoch 6/15\n",
      "132/132 [==============================] - 0s 1ms/step - loss: 0.0048 - val_loss: 0.0045\n",
      "Epoch 7/15\n",
      "132/132 [==============================] - 1s 7ms/step - loss: 0.0036 - val_loss: 0.0027\n",
      "Epoch 8/15\n",
      "132/132 [==============================] - 1s 8ms/step - loss: 0.0017 - val_loss: 0.0025\n",
      "Epoch 9/15\n",
      "132/132 [==============================] - 0s 1ms/step - loss: 0.2301 - val_loss: 0.1311\n",
      "Epoch 10/15\n",
      "132/132 [==============================] - 0s 1ms/step - loss: 0.0339 - val_loss: 0.0072\n",
      "Epoch 11/15\n",
      "132/132 [==============================] - 0s 1ms/step - loss: 0.0025 - val_loss: 0.0032\n",
      "Epoch 12/15\n",
      "132/132 [==============================] - 0s 1ms/step - loss: 0.0021 - val_loss: 0.0037\n",
      "Epoch 13/15\n",
      "132/132 [==============================] - 0s 4ms/step - loss: 0.0056 - val_loss: 0.0024\n",
      "Epoch 14/15\n",
      "132/132 [==============================] - 0s 1ms/step - loss: 0.0120 - val_loss: 0.0079\n",
      "Epoch 15/15\n",
      "132/132 [==============================] - 0s 1ms/step - loss: 0.0052 - val_loss: 0.0055\n"
     ]
    }
   ],
   "source": [
    "model.compile(loss=\"mse\", optimizer=\"Adam\")\n",
    "checkpoint_cb = tf.keras.callbacks.ModelCheckpoint(\"my_keras_model.h5\", save_best_only=True)\n",
    "history = model.fit(X_train, y_train, epochs=15, validation_data=(X_valid, y_valid),callbacks=[checkpoint_cb])"
   ]
  },
  {
   "cell_type": "code",
   "execution_count": 51,
   "id": "separate-wesley",
   "metadata": {
    "scrolled": true
   },
   "outputs": [
    {
     "data": {
      "image/png": "[encoded data removed]",
      "text/plain": [
       "<Figure size 576x360 with 1 Axes>"
      ]
     },
     "metadata": {
      "needs_background": "light"
     },
     "output_type": "display_data"
    }
   ],
   "source": [
    "import matplotlib.pyplot as plt\n",
    "pd.DataFrame(history.history).plot(figsize=(8, 5))\n",
    "plt.grid(True)"
   ]
  },
  {
   "cell_type": "code",
   "execution_count": 52,
   "id": "fifty-cleveland",
   "metadata": {},
   "outputs": [
    {
     "name": "stdout",
     "output_type": "stream",
     "text": [
      "97/97 [==============================] - 0s 567us/step - loss: 0.0040\n"
     ]
    }
   ],
   "source": [
    "mse_test = model.evaluate(X_test, y_test)"
   ]
  },
  {
   "cell_type": "code",
   "execution_count": 69,
   "id": "swiss-acrylic",
   "metadata": {},
   "outputs": [
    {
     "data": {
      "text/plain": [
       "array([[1.7797775],\n",
       "       [1.7251691],\n",
       "       [1.5807862]], dtype=float32)"
      ]
     },
     "execution_count": 69,
     "metadata": {},
     "output_type": "execute_result"
    }
   ],
   "source": [
    "X_new = X_test[:3]\n",
    "y_pred = model.predict(X_new)\n",
    "y_pred"
   ]
  },
  {
   "cell_type": "code",
   "execution_count": 57,
   "id": "sacred-vegetarian",
   "metadata": {},
   "outputs": [
    {
     "data": {
      "text/plain": [
       "array([[ 0.49465099,  1.2265512 , -0.29693671,  0.43010162,  1.15672005,\n",
       "         1.14353762, -0.94135191,  0.41178055,  1.06160127,  1.17163828,\n",
       "         0.2803192 ,  0.56151062],\n",
       "       [ 0.4600455 , -0.22552127, -0.29693671,  0.10993719, -0.16924748,\n",
       "        -0.4693713 ,  0.19172768,  0.08082214,  0.41233695, -0.88755723,\n",
       "         0.63140896, -0.20782688],\n",
       "       [ 0.48696088,  0.61079895, -0.29693671,  0.36606874,  0.92983227,\n",
       "         0.56833155, -0.62113376,  0.71909907,  0.86249355,  0.57734437,\n",
       "         0.38164041,  0.17287622]])"
      ]
     },
     "execution_count": 57,
     "metadata": {},
     "output_type": "execute_result"
    }
   ],
   "source": [
    "X_test[:3]"
   ]
  },
  {
   "cell_type": "code",
   "execution_count": 63,
   "id": "described-finland",
   "metadata": {},
   "outputs": [
    {
     "data": {
      "text/plain": [
       "5381    1.7699\n",
       "3599    1.8037\n",
       "4730    1.6256\n",
       "Name: AH, dtype: float64"
      ]
     },
     "execution_count": 63,
     "metadata": {},
     "output_type": "execute_result"
    }
   ],
   "source": [
    "y_test[:3]"
   ]
  }
 ],
 "metadata": {
  "kernelspec": {
   "display_name": "Python 3",
   "language": "python",
   "name": "python3"
  },
  "language_info": {
   "codemirror_mode": {
    "name": "ipython",
    "version": 3
   },
   "file_extension": ".py",
   "mimetype": "text/x-python",
   "name": "python",
   "nbconvert_exporter": "python",
   "pygments_lexer": "ipython3",
   "version": "3.6.9"
  }
 },
 "nbformat": 4,
 "nbformat_minor": 5
}
