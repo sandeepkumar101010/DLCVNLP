{
  "nbformat": 4,
  "nbformat_minor": 0,
  "metadata": {
    "colab": {
      "name": "Dog Cat Classification CNN.ipynb",
      "provenance": [],
      "collapsed_sections": [],
      "mount_file_id": "1Vncx3venwGVlEsL8MpYk3KOJ3KDvCcAB",
      "authorship_tag": "ABX9TyOhpVtGoJEl+jaIdmoPGDjl",
      "include_colab_link": true
    },
    "kernelspec": {
      "name": "python3",
      "display_name": "Python 3"
    }
  },
  "cells": [
    {
      "cell_type": "markdown",
      "metadata": {
        "id": "view-in-github",
        "colab_type": "text"
      },
      "source": [
        "<a href=\"https://colab.research.google.com/github/sandeepkumar101010/DLCVNLP/blob/main/Dog_Cat_Classification_CNN.ipynb\" target=\"_parent\"><img src=\"https://colab.research.google.com/assets/colab-badge.svg\" alt=\"Open In Colab\"/></a>"
      ]
    },
    {
      "cell_type": "code",
      "metadata": {
        "id": "3CF-yHtrJF-p"
      },
      "source": [
        "import tensorflow as tf\r\n",
        "import pandas as pd\r\n",
        "import numpy as np"
      ],
      "execution_count": 5,
      "outputs": []
    },
    {
      "cell_type": "code",
      "metadata": {
        "id": "rb9NHG-pPR0y"
      },
      "source": [
        "from tensorflow.keras.preprocessing.image import ImageDataGenerator"
      ],
      "execution_count": 9,
      "outputs": []
    },
    {
      "cell_type": "code",
      "metadata": {
        "id": "0RkpOAvbQlqm"
      },
      "source": [
        "#part 1 Data Preprocessing\r\n",
        "train_datagen = ImageDataGenerator(rescale=1./255,shear_range=0.2,zoom_range=0.2,horizontal_flip=True)"
      ],
      "execution_count": 10,
      "outputs": []
    },
    {
      "cell_type": "code",
      "metadata": {
        "colab": {
          "base_uri": "https://localhost:8080/"
        },
        "id": "ky2KQw4VQ-8I",
        "outputId": "475e0477-4839-4b3d-8dd8-e87e25d8192c"
      },
      "source": [
        "training_set = train_datagen.flow_from_directory('/content/drive/MyDrive/train1',\r\n",
        "                                                 target_size=(64,64),batch_size=10,class_mode=\"binary\")"
      ],
      "execution_count": 14,
      "outputs": [
        {
          "output_type": "stream",
          "text": [
            "Found 45 images belonging to 2 classes.\n"
          ],
          "name": "stdout"
        }
      ]
    },
    {
      "cell_type": "code",
      "metadata": {
        "colab": {
          "base_uri": "https://localhost:8080/"
        },
        "id": "HDPaGDiAVYxh",
        "outputId": "e63d90bf-0d8a-479f-f617-493b4bc18cd1"
      },
      "source": [
        "test_datagen = ImageDataGenerator(rescale=1./255)\r\n",
        "test_set = test_datagen.flow_from_directory('/content/drive/MyDrive/test',target_size=(64,64),batch_size = 4,class_mode=\"binary\")"
      ],
      "execution_count": 16,
      "outputs": [
        {
          "output_type": "stream",
          "text": [
            "Found 11 images belonging to 2 classes.\n"
          ],
          "name": "stdout"
        }
      ]
    },
    {
      "cell_type": "code",
      "metadata": {
        "id": "62v1GOxAWO09"
      },
      "source": [
        "#Building CNN Model\r\n",
        "#initializing model\r\n",
        "cnn = tf.keras.models.Sequential()\r\n",
        "\r\n",
        "#setup 1st CNN layer\r\n",
        "cnn.add(tf.keras.layers.Conv2D(filters = 30,kernel_size=3,strides=1,padding=\"same\",activation=\"relu\",input_shape = [64,64,3]))\r\n",
        "\r\n",
        "#setup max pooling\r\n",
        "cnn.add(tf.keras.layers.MaxPool2D(pool_size=(2,2),strides = 2))\r\n",
        "\r\n",
        "#setup 2nd CNN layer\r\n",
        "cnn.add(tf.keras.layers.Conv2D(filters = 30,kernel_size=3,strides=1,padding=\"same\",activation=\"relu\",input_shape = [64,64,3]))\r\n",
        "\r\n",
        "#setup max pooling\r\n",
        "cnn.add(tf.keras.layers.MaxPool2D(pool_size=(2,2),strides = 2))\r\n",
        "\r\n",
        "#setup flatteing\r\n",
        "cnn.add(tf.keras.layers.Flatten())\r\n",
        "\r\n",
        "#setup full connection\r\n",
        "cnn.add(tf.keras.layers.Dense(units=100, activation= 'relu' ))\r\n",
        "cnn.add(tf.keras.layers.Dense(units=1, activation= 'sigmoid' ))\r\n"
      ],
      "execution_count": 19,
      "outputs": []
    },
    {
      "cell_type": "code",
      "metadata": {
        "colab": {
          "base_uri": "https://localhost:8080/"
        },
        "id": "qqoykwzEaQ2q",
        "outputId": "b9ff035c-300c-4ba9-db6f-6ba64ac92950"
      },
      "source": [
        "#training \r\n",
        "cnn.compile(loss = 'binary_crossentropy',optimizer= 'Adam' , metrics= ['accuracy'])\r\n",
        "cnn.fit(training_set, epochs= 30, validation_data= test_set)"
      ],
      "execution_count": 21,
      "outputs": [
        {
          "output_type": "stream",
          "text": [
            "Epoch 1/30\n",
            "5/5 [==============================] - 2s 377ms/step - loss: 0.4484 - accuracy: 0.8000 - val_loss: 0.3710 - val_accuracy: 0.8182\n",
            "Epoch 2/30\n",
            "5/5 [==============================] - 2s 351ms/step - loss: 0.3807 - accuracy: 0.9097 - val_loss: 0.5118 - val_accuracy: 0.7273\n",
            "Epoch 3/30\n",
            "5/5 [==============================] - 2s 329ms/step - loss: 0.3405 - accuracy: 0.9134 - val_loss: 0.4129 - val_accuracy: 0.8182\n",
            "Epoch 4/30\n",
            "5/5 [==============================] - 2s 339ms/step - loss: 0.3438 - accuracy: 0.8596 - val_loss: 0.5987 - val_accuracy: 0.6364\n",
            "Epoch 5/30\n",
            "5/5 [==============================] - 2s 375ms/step - loss: 0.2366 - accuracy: 0.9390 - val_loss: 0.5575 - val_accuracy: 0.7273\n",
            "Epoch 6/30\n",
            "5/5 [==============================] - 2s 341ms/step - loss: 0.2906 - accuracy: 0.8422 - val_loss: 0.4515 - val_accuracy: 0.8182\n",
            "Epoch 7/30\n",
            "5/5 [==============================] - 2s 334ms/step - loss: 0.2368 - accuracy: 0.9246 - val_loss: 0.5640 - val_accuracy: 0.8182\n",
            "Epoch 8/30\n",
            "5/5 [==============================] - 2s 370ms/step - loss: 0.1789 - accuracy: 0.9738 - val_loss: 0.5922 - val_accuracy: 0.8182\n",
            "Epoch 9/30\n",
            "5/5 [==============================] - 2s 384ms/step - loss: 0.1510 - accuracy: 0.9926 - val_loss: 0.6392 - val_accuracy: 0.8182\n",
            "Epoch 10/30\n",
            "5/5 [==============================] - 2s 321ms/step - loss: 0.1111 - accuracy: 1.0000 - val_loss: 0.8786 - val_accuracy: 0.7273\n",
            "Epoch 11/30\n",
            "5/5 [==============================] - 2s 335ms/step - loss: 0.2303 - accuracy: 0.9205 - val_loss: 0.4862 - val_accuracy: 0.7273\n",
            "Epoch 12/30\n",
            "5/5 [==============================] - 2s 374ms/step - loss: 0.0826 - accuracy: 1.0000 - val_loss: 0.8290 - val_accuracy: 0.7273\n",
            "Epoch 13/30\n",
            "5/5 [==============================] - 2s 331ms/step - loss: 0.1408 - accuracy: 0.9403 - val_loss: 0.5052 - val_accuracy: 0.8182\n",
            "Epoch 14/30\n",
            "5/5 [==============================] - 2s 335ms/step - loss: 0.1122 - accuracy: 1.0000 - val_loss: 0.7244 - val_accuracy: 0.8182\n",
            "Epoch 15/30\n",
            "5/5 [==============================] - 2s 379ms/step - loss: 0.0910 - accuracy: 1.0000 - val_loss: 0.9198 - val_accuracy: 0.8182\n",
            "Epoch 16/30\n",
            "5/5 [==============================] - 2s 339ms/step - loss: 0.0631 - accuracy: 1.0000 - val_loss: 1.0358 - val_accuracy: 0.8182\n",
            "Epoch 17/30\n",
            "5/5 [==============================] - 2s 338ms/step - loss: 0.0605 - accuracy: 1.0000 - val_loss: 1.0235 - val_accuracy: 0.8182\n",
            "Epoch 18/30\n",
            "5/5 [==============================] - 2s 357ms/step - loss: 0.0878 - accuracy: 0.9312 - val_loss: 0.8950 - val_accuracy: 0.8182\n",
            "Epoch 19/30\n",
            "5/5 [==============================] - 2s 368ms/step - loss: 0.0405 - accuracy: 1.0000 - val_loss: 0.6704 - val_accuracy: 0.8182\n",
            "Epoch 20/30\n",
            "5/5 [==============================] - 2s 334ms/step - loss: 0.0358 - accuracy: 1.0000 - val_loss: 0.6303 - val_accuracy: 0.8182\n",
            "Epoch 21/30\n",
            "5/5 [==============================] - 2s 339ms/step - loss: 0.0358 - accuracy: 0.9829 - val_loss: 1.2691 - val_accuracy: 0.7273\n",
            "Epoch 22/30\n",
            "5/5 [==============================] - 2s 331ms/step - loss: 0.0377 - accuracy: 1.0000 - val_loss: 0.9743 - val_accuracy: 0.8182\n",
            "Epoch 23/30\n",
            "5/5 [==============================] - 2s 325ms/step - loss: 0.0210 - accuracy: 1.0000 - val_loss: 0.9487 - val_accuracy: 0.8182\n",
            "Epoch 24/30\n",
            "5/5 [==============================] - 2s 328ms/step - loss: 0.0232 - accuracy: 1.0000 - val_loss: 1.1787 - val_accuracy: 0.7273\n",
            "Epoch 25/30\n",
            "5/5 [==============================] - 2s 334ms/step - loss: 0.0147 - accuracy: 1.0000 - val_loss: 1.1243 - val_accuracy: 0.8182\n",
            "Epoch 26/30\n",
            "5/5 [==============================] - 2s 326ms/step - loss: 0.0307 - accuracy: 1.0000 - val_loss: 1.1937 - val_accuracy: 0.7273\n",
            "Epoch 27/30\n",
            "5/5 [==============================] - 2s 336ms/step - loss: 0.0199 - accuracy: 1.0000 - val_loss: 1.0653 - val_accuracy: 0.7273\n",
            "Epoch 28/30\n",
            "5/5 [==============================] - 2s 350ms/step - loss: 0.0288 - accuracy: 1.0000 - val_loss: 1.0545 - val_accuracy: 0.8182\n",
            "Epoch 29/30\n",
            "5/5 [==============================] - 2s 318ms/step - loss: 0.0108 - accuracy: 1.0000 - val_loss: 1.3196 - val_accuracy: 0.7273\n",
            "Epoch 30/30\n",
            "5/5 [==============================] - 2s 326ms/step - loss: 0.0115 - accuracy: 1.0000 - val_loss: 1.0765 - val_accuracy: 0.8182\n"
          ],
          "name": "stdout"
        },
        {
          "output_type": "execute_result",
          "data": {
            "text/plain": [
              "<tensorflow.python.keras.callbacks.History at 0x7f8ae9ce6fd0>"
            ]
          },
          "metadata": {
            "tags": []
          },
          "execution_count": 21
        }
      ]
    },
    {
      "cell_type": "code",
      "metadata": {
        "colab": {
          "base_uri": "https://localhost:8080/"
        },
        "id": "hp3kmp9DbiIg",
        "outputId": "cb3e9f59-6a7c-40b9-aaa2-e81d60e96566"
      },
      "source": [
        "cnn.summary()"
      ],
      "execution_count": 22,
      "outputs": [
        {
          "output_type": "stream",
          "text": [
            "Model: \"sequential_1\"\n",
            "_________________________________________________________________\n",
            "Layer (type)                 Output Shape              Param #   \n",
            "=================================================================\n",
            "conv2d (Conv2D)              (None, 64, 64, 30)        840       \n",
            "_________________________________________________________________\n",
            "max_pooling2d (MaxPooling2D) (None, 32, 32, 30)        0         \n",
            "_________________________________________________________________\n",
            "conv2d_1 (Conv2D)            (None, 32, 32, 30)        8130      \n",
            "_________________________________________________________________\n",
            "max_pooling2d_1 (MaxPooling2 (None, 16, 16, 30)        0         \n",
            "_________________________________________________________________\n",
            "flatten (Flatten)            (None, 7680)              0         \n",
            "_________________________________________________________________\n",
            "dense (Dense)                (None, 100)               768100    \n",
            "_________________________________________________________________\n",
            "dense_1 (Dense)              (None, 1)                 101       \n",
            "=================================================================\n",
            "Total params: 777,171\n",
            "Trainable params: 777,171\n",
            "Non-trainable params: 0\n",
            "_________________________________________________________________\n"
          ],
          "name": "stdout"
        }
      ]
    },
    {
      "cell_type": "code",
      "metadata": {
        "id": "q0ivnh8CqbN3"
      },
      "source": [
        "test_image = np.expand_dims(test_image, axis = 0)"
      ],
      "execution_count": 35,
      "outputs": []
    },
    {
      "cell_type": "code",
      "metadata": {
        "colab": {
          "base_uri": "https://localhost:8080/"
        },
        "id": "FTo_-WuJqck6",
        "outputId": "49c0134d-a0da-4e44-e1f4-7660beb0ac18"
      },
      "source": [
        "test_image"
      ],
      "execution_count": 45,
      "outputs": [
        {
          "output_type": "execute_result",
          "data": {
            "text/plain": [
              "array([[[0.69803923, 0.6       , 0.5803922 ],\n",
              "        [0.7019608 , 0.60784316, 0.5921569 ],\n",
              "        [0.7058824 , 0.62352943, 0.6039216 ],\n",
              "        ...,\n",
              "        [0.93333334, 0.8901961 , 0.88235295],\n",
              "        [0.89411765, 0.8392157 , 0.8352941 ],\n",
              "        [0.6313726 , 0.6745098 , 0.65882355]],\n",
              "\n",
              "       [[0.6901961 , 0.6       , 0.5764706 ],\n",
              "        [0.7019608 , 0.60784316, 0.5921569 ],\n",
              "        [0.7058824 , 0.62352943, 0.6039216 ],\n",
              "        ...,\n",
              "        [0.9411765 , 0.8980392 , 0.8901961 ],\n",
              "        [0.8862745 , 0.83137256, 0.827451  ],\n",
              "        [0.5137255 , 0.5294118 , 0.5254902 ]],\n",
              "\n",
              "       [[0.69411767, 0.6039216 , 0.5803922 ],\n",
              "        [0.7019608 , 0.60784316, 0.5921569 ],\n",
              "        [0.70980394, 0.627451  , 0.60784316],\n",
              "        ...,\n",
              "        [0.9529412 , 0.9098039 , 0.9019608 ],\n",
              "        [0.8784314 , 0.8235294 , 0.81960785],\n",
              "        [0.48235294, 0.5058824 , 0.49803922]],\n",
              "\n",
              "       ...,\n",
              "\n",
              "       [[0.6901961 , 0.5921569 , 0.5764706 ],\n",
              "        [0.7019608 , 0.60784316, 0.5921569 ],\n",
              "        [0.7137255 , 0.61960787, 0.6117647 ],\n",
              "        ...,\n",
              "        [0.69411767, 0.6745098 , 0.65882355],\n",
              "        [0.5647059 , 0.54509807, 0.53333336],\n",
              "        [0.13333334, 0.14901961, 0.19215687]],\n",
              "\n",
              "       [[0.69411767, 0.59607846, 0.5803922 ],\n",
              "        [0.7019608 , 0.6039216 , 0.5882353 ],\n",
              "        [0.70980394, 0.6156863 , 0.60784316],\n",
              "        ...,\n",
              "        [0.68235296, 0.6392157 , 0.6156863 ],\n",
              "        [0.5372549 , 0.5176471 , 0.5019608 ],\n",
              "        [0.07058824, 0.10196079, 0.14509805]],\n",
              "\n",
              "       [[0.68235296, 0.57254905, 0.5686275 ],\n",
              "        [0.68235296, 0.57254905, 0.5686275 ],\n",
              "        [0.6745098 , 0.5529412 , 0.57254905],\n",
              "        ...,\n",
              "        [0.65882355, 0.6039216 , 0.5686275 ],\n",
              "        [0.6901961 , 0.64705884, 0.62352943],\n",
              "        [0.16862746, 0.1882353 , 0.20392157]]], dtype=float32)"
            ]
          },
          "metadata": {
            "tags": []
          },
          "execution_count": 45
        }
      ]
    },
    {
      "cell_type": "code",
      "metadata": {
        "id": "bWQGxcxlpErS"
      },
      "source": [
        "# Part 4 - Making a single prediction\r\n",
        "\r\n",
        "import numpy as np\r\n",
        "from tensorflow.keras.preprocessing import image\r\n",
        "test_image = image.load_img('/content/drive/MyDrive/test/Cat/kitten-510651.jpg', target_size = (64,64))\r\n",
        "test_image = image.img_to_array(test_image)\r\n",
        "test_image=test_image/255\r\n",
        "test_image = np.expand_dims(test_image, axis = 0)\r\n",
        "result = cnn.predict(test_image)"
      ],
      "execution_count": 44,
      "outputs": []
    },
    {
      "cell_type": "code",
      "metadata": {
        "colab": {
          "base_uri": "https://localhost:8080/"
        },
        "id": "COgBMmelpvHi",
        "outputId": "705904de-ee68-4799-c06e-faf4d57664b7"
      },
      "source": [
        "result"
      ],
      "execution_count": 33,
      "outputs": [
        {
          "output_type": "execute_result",
          "data": {
            "text/plain": [
              "array([[0.00328779]], dtype=float32)"
            ]
          },
          "metadata": {
            "tags": []
          },
          "execution_count": 33
        }
      ]
    },
    {
      "cell_type": "code",
      "metadata": {
        "colab": {
          "base_uri": "https://localhost:8080/"
        },
        "id": "M643Efjjpzrb",
        "outputId": "858cfe8b-db14-4f41-da89-ae151be07bb4"
      },
      "source": [
        "if result[0]<=0.5:\r\n",
        "    print(\"The image classified is cat\")\r\n",
        "else:\r\n",
        "    print(\"The image classified is dog\")"
      ],
      "execution_count": 34,
      "outputs": [
        {
          "output_type": "stream",
          "text": [
            "The image classified is cat\n"
          ],
          "name": "stdout"
        }
      ]
    }
  ]
}