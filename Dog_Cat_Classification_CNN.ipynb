{
  "nbformat": 4,
  "nbformat_minor": 0,
  "metadata": {
    "colab": {
      "name": "Dog Cat Classification CNN.ipynb",
      "provenance": [],
      "collapsed_sections": [],
      "toc_visible": true,
      "mount_file_id": "https://github.com/sandeepkumar101010/DLCVNLP/blob/main/Dog_Cat_Classification_CNN.ipynb",
      "authorship_tag": "ABX9TyNL7paZXAdwAiRgFR15anFA",
      "include_colab_link": true
    },
    "kernelspec": {
      "name": "python3",
      "display_name": "Python 3"
    }
  },
  "cells": [
    {
      "cell_type": "markdown",
      "metadata": {
        "id": "view-in-github",
        "colab_type": "text"
      },
      "source": [
        "<a href=\"https://colab.research.google.com/github/sandeepkumar101010/DLCVNLP/blob/main/Dog_Cat_Classification_CNN.ipynb\" target=\"_parent\"><img src=\"https://colab.research.google.com/assets/colab-badge.svg\" alt=\"Open In Colab\"/></a>"
      ]
    },
    {
      "cell_type": "code",
      "metadata": {
        "id": "3CF-yHtrJF-p"
      },
      "source": [
        "import tensorflow as tf\r\n",
        "import pandas as pd\r\n",
        "import numpy as np"
      ],
      "execution_count": 1,
      "outputs": []
    },
    {
      "cell_type": "code",
      "metadata": {
        "id": "rb9NHG-pPR0y"
      },
      "source": [
        "from tensorflow.keras.preprocessing.image import ImageDataGenerator"
      ],
      "execution_count": 2,
      "outputs": []
    },
    {
      "cell_type": "code",
      "metadata": {
        "id": "0RkpOAvbQlqm"
      },
      "source": [
        "#part 1 Data Preprocessing\r\n",
        "train_datagen = ImageDataGenerator(rescale=1./255,shear_range=0.2,zoom_range=0.2,horizontal_flip=True)"
      ],
      "execution_count": 3,
      "outputs": []
    },
    {
      "cell_type": "code",
      "metadata": {
        "colab": {
          "base_uri": "https://localhost:8080/"
        },
        "id": "ky2KQw4VQ-8I",
        "outputId": "75898cdc-7711-4656-c99d-6eb9fcc4fdc3"
      },
      "source": [
        "training_set = train_datagen.flow_from_directory('/content/drive/MyDrive/train1',\r\n",
        "                                                 target_size=(64,64),batch_size=10,class_mode=\"binary\")"
      ],
      "execution_count": 5,
      "outputs": [
        {
          "output_type": "stream",
          "text": [
            "Found 45 images belonging to 2 classes.\n"
          ],
          "name": "stdout"
        }
      ]
    },
    {
      "cell_type": "code",
      "metadata": {
        "colab": {
          "base_uri": "https://localhost:8080/"
        },
        "id": "HDPaGDiAVYxh",
        "outputId": "461a8309-064f-4dc8-aa18-4659e1fa584a"
      },
      "source": [
        "test_datagen = ImageDataGenerator(rescale=1./255)\r\n",
        "test_set = test_datagen.flow_from_directory('/content/drive/MyDrive/test',target_size=(64,64),batch_size = 4,class_mode=\"binary\")"
      ],
      "execution_count": 6,
      "outputs": [
        {
          "output_type": "stream",
          "text": [
            "Found 11 images belonging to 2 classes.\n"
          ],
          "name": "stdout"
        }
      ]
    },
    {
      "cell_type": "code",
      "metadata": {
        "id": "62v1GOxAWO09"
      },
      "source": [
        "#Building CNN Model\r\n",
        "#initializing model\r\n",
        "cnn = tf.keras.models.Sequential()\r\n",
        "\r\n",
        "#setup 1st CNN layer\r\n",
        "cnn.add(tf.keras.layers.Conv2D(filters = 30,kernel_size=3,strides=1,padding=\"same\",activation=\"relu\",input_shape = [64,64,3]))\r\n",
        "\r\n",
        "#setup max pooling\r\n",
        "cnn.add(tf.keras.layers.MaxPool2D(pool_size=(2,2),strides = 2))\r\n",
        "\r\n",
        "#setup 2nd CNN layer\r\n",
        "cnn.add(tf.keras.layers.Conv2D(filters = 30,kernel_size=3,strides=1,padding=\"same\",activation=\"relu\"))\r\n",
        "\r\n",
        "#setup max pooling\r\n",
        "cnn.add(tf.keras.layers.MaxPool2D(pool_size=(2,2),strides = 2))\r\n",
        "\r\n",
        "#setup flatteing\r\n",
        "cnn.add(tf.keras.layers.Flatten())\r\n",
        "\r\n",
        "#setup full connection\r\n",
        "cnn.add(tf.keras.layers.Dense(units=100, activation= 'relu' ))\r\n",
        "cnn.add(tf.keras.layers.Dense(units=1, activation= 'sigmoid' ))\r\n"
      ],
      "execution_count": 20,
      "outputs": []
    },
    {
      "cell_type": "code",
      "metadata": {
        "colab": {
          "base_uri": "https://localhost:8080/"
        },
        "id": "qqoykwzEaQ2q",
        "outputId": "b424a15d-6b0a-49c6-c78c-9b672721b6d4"
      },
      "source": [
        "#training \r\n",
        "cnn.compile(loss = 'binary_crossentropy',optimizer= 'Adam' , metrics= ['accuracy'])\r\n",
        "cnn.fit(training_set, epochs= 30, validation_data= test_set)"
      ],
      "execution_count": 21,
      "outputs": [
        {
          "output_type": "stream",
          "text": [
            "Epoch 1/30\n",
            "5/5 [==============================] - 2s 375ms/step - loss: 0.7488 - accuracy: 0.5409 - val_loss: 0.8331 - val_accuracy: 0.4545\n",
            "Epoch 2/30\n",
            "5/5 [==============================] - 2s 327ms/step - loss: 0.8239 - accuracy: 0.5524 - val_loss: 0.7229 - val_accuracy: 0.4545\n",
            "Epoch 3/30\n",
            "5/5 [==============================] - 2s 301ms/step - loss: 0.6965 - accuracy: 0.5377 - val_loss: 0.6849 - val_accuracy: 0.5455\n",
            "Epoch 4/30\n",
            "5/5 [==============================] - 2s 306ms/step - loss: 0.6889 - accuracy: 0.6297 - val_loss: 0.6837 - val_accuracy: 0.8182\n",
            "Epoch 5/30\n",
            "5/5 [==============================] - 2s 312ms/step - loss: 0.6792 - accuracy: 0.7069 - val_loss: 0.6819 - val_accuracy: 0.5455\n",
            "Epoch 6/30\n",
            "5/5 [==============================] - 2s 332ms/step - loss: 0.6644 - accuracy: 0.6634 - val_loss: 0.6768 - val_accuracy: 0.4545\n",
            "Epoch 7/30\n",
            "5/5 [==============================] - 2s 281ms/step - loss: 0.6490 - accuracy: 0.5815 - val_loss: 0.6706 - val_accuracy: 0.6364\n",
            "Epoch 8/30\n",
            "5/5 [==============================] - 2s 340ms/step - loss: 0.6387 - accuracy: 0.6876 - val_loss: 0.6681 - val_accuracy: 0.5455\n",
            "Epoch 9/30\n",
            "5/5 [==============================] - 2s 321ms/step - loss: 0.6125 - accuracy: 0.6882 - val_loss: 0.6420 - val_accuracy: 0.7273\n",
            "Epoch 10/30\n",
            "5/5 [==============================] - 2s 294ms/step - loss: 0.5867 - accuracy: 0.7849 - val_loss: 0.6294 - val_accuracy: 0.6364\n",
            "Epoch 11/30\n",
            "5/5 [==============================] - 2s 308ms/step - loss: 0.5542 - accuracy: 0.8556 - val_loss: 0.6422 - val_accuracy: 0.6364\n",
            "Epoch 12/30\n",
            "5/5 [==============================] - 2s 322ms/step - loss: 0.5317 - accuracy: 0.7897 - val_loss: 0.6623 - val_accuracy: 0.6364\n",
            "Epoch 13/30\n",
            "5/5 [==============================] - 2s 341ms/step - loss: 0.4781 - accuracy: 0.7424 - val_loss: 0.6211 - val_accuracy: 0.6364\n",
            "Epoch 14/30\n",
            "5/5 [==============================] - 2s 345ms/step - loss: 0.4203 - accuracy: 0.8824 - val_loss: 0.5865 - val_accuracy: 0.6364\n",
            "Epoch 15/30\n",
            "5/5 [==============================] - 2s 325ms/step - loss: 0.4833 - accuracy: 0.7232 - val_loss: 0.7356 - val_accuracy: 0.6364\n",
            "Epoch 16/30\n",
            "5/5 [==============================] - 2s 316ms/step - loss: 0.4210 - accuracy: 0.8840 - val_loss: 0.6081 - val_accuracy: 0.5455\n",
            "Epoch 17/30\n",
            "5/5 [==============================] - 2s 361ms/step - loss: 0.4119 - accuracy: 0.8872 - val_loss: 0.6957 - val_accuracy: 0.7273\n",
            "Epoch 18/30\n",
            "5/5 [==============================] - 2s 305ms/step - loss: 0.3522 - accuracy: 0.8986 - val_loss: 0.5966 - val_accuracy: 0.6364\n",
            "Epoch 19/30\n",
            "5/5 [==============================] - 2s 338ms/step - loss: 0.4412 - accuracy: 0.7563 - val_loss: 0.9365 - val_accuracy: 0.6364\n",
            "Epoch 20/30\n",
            "5/5 [==============================] - 2s 341ms/step - loss: 0.2959 - accuracy: 0.8689 - val_loss: 0.7176 - val_accuracy: 0.6364\n",
            "Epoch 21/30\n",
            "5/5 [==============================] - 2s 272ms/step - loss: 0.3384 - accuracy: 0.9079 - val_loss: 0.7893 - val_accuracy: 0.7273\n",
            "Epoch 22/30\n",
            "5/5 [==============================] - 2s 333ms/step - loss: 0.2155 - accuracy: 0.9049 - val_loss: 0.6917 - val_accuracy: 0.6364\n",
            "Epoch 23/30\n",
            "5/5 [==============================] - 2s 336ms/step - loss: 0.2001 - accuracy: 0.9384 - val_loss: 1.0533 - val_accuracy: 0.7273\n",
            "Epoch 24/30\n",
            "5/5 [==============================] - 2s 362ms/step - loss: 0.1224 - accuracy: 0.9804 - val_loss: 0.8873 - val_accuracy: 0.6364\n",
            "Epoch 25/30\n",
            "5/5 [==============================] - 2s 357ms/step - loss: 0.2020 - accuracy: 0.9213 - val_loss: 1.4931 - val_accuracy: 0.7273\n",
            "Epoch 26/30\n",
            "5/5 [==============================] - 2s 295ms/step - loss: 0.1591 - accuracy: 0.9823 - val_loss: 0.9355 - val_accuracy: 0.5455\n",
            "Epoch 27/30\n",
            "5/5 [==============================] - 2s 307ms/step - loss: 0.1954 - accuracy: 0.9034 - val_loss: 1.7359 - val_accuracy: 0.6364\n",
            "Epoch 28/30\n",
            "5/5 [==============================] - 2s 322ms/step - loss: 0.3920 - accuracy: 0.8384 - val_loss: 0.7594 - val_accuracy: 0.5455\n",
            "Epoch 29/30\n",
            "5/5 [==============================] - 2s 308ms/step - loss: 0.1534 - accuracy: 0.9213 - val_loss: 0.7438 - val_accuracy: 0.6364\n",
            "Epoch 30/30\n",
            "5/5 [==============================] - 2s 319ms/step - loss: 0.1796 - accuracy: 0.9542 - val_loss: 0.7099 - val_accuracy: 0.6364\n"
          ],
          "name": "stdout"
        },
        {
          "output_type": "execute_result",
          "data": {
            "text/plain": [
              "<tensorflow.python.keras.callbacks.History at 0x7f9389064630>"
            ]
          },
          "metadata": {
            "tags": []
          },
          "execution_count": 21
        }
      ]
    },
    {
      "cell_type": "code",
      "metadata": {
        "colab": {
          "base_uri": "https://localhost:8080/"
        },
        "id": "hp3kmp9DbiIg",
        "outputId": "b2fc6605-4c73-4e01-b346-b442d33ae635"
      },
      "source": [
        "cnn.summary()"
      ],
      "execution_count": 22,
      "outputs": [
        {
          "output_type": "stream",
          "text": [
            "Model: \"sequential_1\"\n",
            "_________________________________________________________________\n",
            "Layer (type)                 Output Shape              Param #   \n",
            "=================================================================\n",
            "conv2d_2 (Conv2D)            (None, 64, 64, 30)        840       \n",
            "_________________________________________________________________\n",
            "max_pooling2d_2 (MaxPooling2 (None, 32, 32, 30)        0         \n",
            "_________________________________________________________________\n",
            "conv2d_3 (Conv2D)            (None, 32, 32, 30)        8130      \n",
            "_________________________________________________________________\n",
            "max_pooling2d_3 (MaxPooling2 (None, 16, 16, 30)        0         \n",
            "_________________________________________________________________\n",
            "flatten_1 (Flatten)          (None, 7680)              0         \n",
            "_________________________________________________________________\n",
            "dense_2 (Dense)              (None, 100)               768100    \n",
            "_________________________________________________________________\n",
            "dense_3 (Dense)              (None, 1)                 101       \n",
            "=================================================================\n",
            "Total params: 777,171\n",
            "Trainable params: 777,171\n",
            "Non-trainable params: 0\n",
            "_________________________________________________________________\n"
          ],
          "name": "stdout"
        }
      ]
    },
    {
      "cell_type": "code",
      "metadata": {
        "id": "bWQGxcxlpErS"
      },
      "source": [
        "# Part 4 - Making a single prediction\r\n",
        "\r\n",
        "import numpy as np\r\n",
        "from tensorflow.keras.preprocessing import image\r\n",
        "test_image = image.load_img('/content/drive/MyDrive/test/Cat/kitten-510651.jpg', target_size = (64,64))\r\n",
        "test_image = image.img_to_array(test_image)\r\n",
        "test_image=test_image/255\r\n",
        "test_image = np.expand_dims(test_image, axis = 0)\r\n",
        "result = cnn.predict(test_image)"
      ],
      "execution_count": 23,
      "outputs": []
    },
    {
      "cell_type": "code",
      "metadata": {
        "colab": {
          "base_uri": "https://localhost:8080/"
        },
        "id": "COgBMmelpvHi",
        "outputId": "dfa1c135-afe7-4820-f9bb-3ba7e02f1c7b"
      },
      "source": [
        "result"
      ],
      "execution_count": 24,
      "outputs": [
        {
          "output_type": "execute_result",
          "data": {
            "text/plain": [
              "array([[0.12893817]], dtype=float32)"
            ]
          },
          "metadata": {
            "tags": []
          },
          "execution_count": 24
        }
      ]
    },
    {
      "cell_type": "code",
      "metadata": {
        "colab": {
          "base_uri": "https://localhost:8080/"
        },
        "id": "M643Efjjpzrb",
        "outputId": "1f0f69f9-3d67-49b4-ab8f-768d8993748a"
      },
      "source": [
        "if result[0]<=0.5:\r\n",
        "    print(\"The image classified is cat\")\r\n",
        "else:\r\n",
        "    print(\"The image classified is dog\")"
      ],
      "execution_count": 25,
      "outputs": [
        {
          "output_type": "stream",
          "text": [
            "The image classified is cat\n"
          ],
          "name": "stdout"
        }
      ]
    },
    {
      "cell_type": "code",
      "metadata": {
        "id": "2xEV_s6Ynomd"
      },
      "source": [
        "\r\n",
        "# save it as a h5 file\r\n",
        "\r\n",
        "\r\n",
        "from tensorflow.keras.models import load_model\r\n",
        "\r\n",
        "cnn.save('model_rcat_dog.h5')"
      ],
      "execution_count": 27,
      "outputs": []
    },
    {
      "cell_type": "code",
      "metadata": {
        "id": "9GiMnNa6oKOv"
      },
      "source": [
        "from tensorflow.keras.models import load_model\r\n",
        " \r\n",
        "# load model\r\n",
        "model = load_model('model_rcat_dog.h5')"
      ],
      "execution_count": 17,
      "outputs": []
    },
    {
      "cell_type": "code",
      "metadata": {
        "colab": {
          "base_uri": "https://localhost:8080/"
        },
        "id": "rN2FtD-OoM8N",
        "outputId": "2e809b1c-d923-40c3-c76c-8319c5781301"
      },
      "source": [
        "model.summary()"
      ],
      "execution_count": 18,
      "outputs": [
        {
          "output_type": "stream",
          "text": [
            "Model: \"sequential\"\n",
            "_________________________________________________________________\n",
            "Layer (type)                 Output Shape              Param #   \n",
            "=================================================================\n",
            "conv2d (Conv2D)              (None, 64, 64, 30)        840       \n",
            "_________________________________________________________________\n",
            "max_pooling2d (MaxPooling2D) (None, 32, 32, 30)        0         \n",
            "_________________________________________________________________\n",
            "conv2d_1 (Conv2D)            (None, 32, 32, 30)        8130      \n",
            "_________________________________________________________________\n",
            "max_pooling2d_1 (MaxPooling2 (None, 16, 16, 30)        0         \n",
            "_________________________________________________________________\n",
            "flatten (Flatten)            (None, 7680)              0         \n",
            "_________________________________________________________________\n",
            "dense (Dense)                (None, 100)               768100    \n",
            "_________________________________________________________________\n",
            "dense_1 (Dense)              (None, 1)                 101       \n",
            "=================================================================\n",
            "Total params: 777,171\n",
            "Trainable params: 777,171\n",
            "Non-trainable params: 0\n",
            "_________________________________________________________________\n"
          ],
          "name": "stdout"
        }
      ]
    }
  ]
}